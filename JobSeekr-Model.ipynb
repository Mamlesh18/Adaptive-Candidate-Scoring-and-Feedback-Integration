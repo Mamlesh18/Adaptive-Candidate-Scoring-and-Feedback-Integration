{
 "cells": [
  {
   "cell_type": "code",
   "execution_count": 2,
   "id": "8d953876-2bf3-431b-9bc0-e23ec2616649",
   "metadata": {},
   "outputs": [
    {
     "name": "stdout",
     "output_type": "stream",
     "text": [
      "Accuracy: 0.8035\n",
      "Classification Report:\n",
      "               precision    recall  f1-score   support\n",
      "\n",
      "           0       0.81      0.99      0.89      1615\n",
      "           1       0.10      0.00      0.01       385\n",
      "\n",
      "    accuracy                           0.80      2000\n",
      "   macro avg       0.45      0.50      0.45      2000\n",
      "weighted avg       0.67      0.80      0.72      2000\n",
      "\n",
      "Sample data saved to sample_job_data.csv\n"
     ]
    }
   ],
   "source": [
    "import pandas as pd\n",
    "import random\n",
    "from sklearn.model_selection import train_test_split\n",
    "from sklearn.preprocessing import StandardScaler, OneHotEncoder\n",
    "from sklearn.compose import ColumnTransformer\n",
    "from sklearn.pipeline import Pipeline\n",
    "from sklearn.ensemble import RandomForestClassifier, GradientBoostingClassifier, VotingClassifier\n",
    "from sklearn.svm import SVC\n",
    "from sklearn.metrics import accuracy_score, classification_report\n",
    "\n",
    "# Seed for reproducibility\n",
    "random.seed(42)\n",
    "\n",
    "# Define the possible values for each feature\n",
    "education_levels = ['Bachelor\\'s', 'Master\\'s', 'PhD']\n",
    "job_titles = ['Data Analyst', 'Software Engineer', 'Research Scientist', 'Intern', 'Project Manager', 'ML Engineer', 'Junior Developer', 'Senior Developer', 'Team Lead']\n",
    "skills = ['SQL, R, Python', 'Java, Python, SQL', 'Python, TensorFlow', 'JavaScript, React', 'Python, Management', 'TensorFlow, Keras', 'JavaScript, HTML', 'Python, Django', 'Leadership, Java', 'React, HTML']\n",
    "certifications = ['None', 'AWS Certified', 'GCP Certified', 'PMP', 'Azure Certified', 'Leadership Certified']\n",
    "projects = ['Data Analysis with Python', 'Web Development with Java', 'ML Model with TensorFlow', 'Website with React', 'Team Management System', 'Deep Learning Project', 'Frontend Development', 'Backend Development', 'Project Leadership', 'Web App with React']\n",
    "courses = ['Data Science', 'Full Stack Development', 'Machine Learning', 'Frontend Development', 'Management', 'Deep Learning', 'Web Development', 'Backend Development', 'Leadership']\n",
    "jobs_applying_for = ['Data Scientist', 'Full Stack Developer', 'ML Engineer', 'Frontend Developer', 'Project Manager', 'AI Specialist', 'Frontend Developer', 'Backend Developer', 'Team Lead']\n",
    "\n",
    "# Generate sample data\n",
    "sample_data = []\n",
    "for _ in range(10000):\n",
    "    sample_data.append({\n",
    "        'Education Level': random.choice(education_levels),\n",
    "        'Years of Experience': random.randint(1, 10),\n",
    "        'Previous Job Titles': random.choice(job_titles),\n",
    "        'Skills': random.choice(skills),\n",
    "        'Certifications': random.choice(certifications),\n",
    "        'Projects': random.choice(projects),\n",
    "        'Courses': random.choice(courses),\n",
    "        'Job Applying For': random.choice(jobs_applying_for)\n",
    "    })\n",
    "\n",
    "# Convert to DataFrame\n",
    "df_sample = pd.DataFrame(sample_data)\n",
    "\n",
    "# Define a function to create labels\n",
    "def is_match(row):\n",
    "    job = row['Job Applying For'].lower()\n",
    "    skills = row['Skills'].lower()\n",
    "    projects = row['Projects'].lower()\n",
    "    courses = row['Courses'].lower()\n",
    "    \n",
    "    return int(any(keyword in skills or keyword in projects or keyword in courses for keyword in job.split()))\n",
    "\n",
    "df_sample['Match'] = df_sample.apply(is_match, axis=1)\n",
    "\n",
    "# Define features and labels\n",
    "X = df_sample.drop(columns=['Job Applying For', 'Match'])\n",
    "y = df_sample['Match']\n",
    "\n",
    "# Preprocess data\n",
    "numeric_features = ['Years of Experience']\n",
    "categorical_features = ['Education Level', 'Previous Job Titles', 'Skills', 'Certifications', 'Projects', 'Courses']\n",
    "\n",
    "preprocessor = ColumnTransformer(\n",
    "    transformers=[\n",
    "        ('num', StandardScaler(), numeric_features),\n",
    "        ('cat', OneHotEncoder(handle_unknown='ignore'), categorical_features)\n",
    "    ])\n",
    "\n",
    "X_preprocessed = preprocessor.fit_transform(X)\n",
    "\n",
    "# Split data\n",
    "X_train, X_test, y_train, y_test = train_test_split(X_preprocessed, y, test_size=0.2, random_state=42)\n",
    "\n",
    "# Define individual models\n",
    "rf = RandomForestClassifier(n_estimators=100, random_state=42)\n",
    "gb = GradientBoostingClassifier(n_estimators=100, random_state=42)\n",
    "svc = SVC(probability=True, random_state=42)\n",
    "\n",
    "# Combine models into a voting classifier\n",
    "ensemble_model = VotingClassifier(estimators=[('rf', rf), ('gb', gb), ('svc', svc)], voting='soft')\n",
    "\n",
    "# Train model\n",
    "ensemble_model.fit(X_train, y_train)\n",
    "\n",
    "# Evaluate model\n",
    "y_pred = ensemble_model.predict(X_test)\n",
    "print('Accuracy:', accuracy_score(y_test, y_pred))\n",
    "print('Classification Report:\\n', classification_report(y_test, y_pred))\n",
    "\n",
    "# Save the sample data to CSV\n",
    "df_sample.to_csv('sample_job_data_1000_new.csv', index=False)\n",
    "print('Sample data saved to sample_job_data.csv')\n"
   ]
  },
  {
   "cell_type": "code",
   "execution_count": 3,
   "id": "579c0bdf-5f41-4661-b452-ff4a342a7899",
   "metadata": {},
   "outputs": [
    {
     "name": "stdout",
     "output_type": "stream",
     "text": [
      "Accuracy: 0.7825\n",
      "Classification Report:\n",
      "               precision    recall  f1-score   support\n",
      "\n",
      "           0       0.79      0.99      0.88      1570\n",
      "           1       0.44      0.04      0.08       430\n",
      "\n",
      "    accuracy                           0.78      2000\n",
      "   macro avg       0.61      0.51      0.48      2000\n",
      "weighted avg       0.71      0.78      0.70      2000\n",
      "\n",
      "Sample data saved to sample_job_data.csv\n"
     ]
    }
   ],
   "source": [
    "import pandas as pd\n",
    "import random\n",
    "from sklearn.model_selection import train_test_split\n",
    "from sklearn.preprocessing import StandardScaler, OneHotEncoder\n",
    "from sklearn.compose import ColumnTransformer\n",
    "from sklearn.pipeline import Pipeline\n",
    "from sklearn.ensemble import RandomForestClassifier, GradientBoostingClassifier, VotingClassifier\n",
    "from sklearn.svm import SVC\n",
    "from sklearn.metrics import accuracy_score, classification_report\n",
    "\n",
    "# Seed for reproducibility\n",
    "random.seed(42)\n",
    "\n",
    "# Define the possible values for each feature\n",
    "education_levels = ['Bachelor\\'s', 'Master\\'s', 'PhD']\n",
    "job_titles = ['Data Analyst', 'Software Engineer', 'Research Scientist', 'Intern', 'Project Manager', 'ML Engineer', 'Junior Developer', 'Senior Developer', 'Team Lead']\n",
    "skills = ['SQL, R, Python', 'Java, Python, SQL', 'Python, TensorFlow', 'JavaScript, React', 'Python, Management', 'TensorFlow, Keras', 'JavaScript, HTML', 'Python, Django', 'Leadership, Java', 'React, HTML']\n",
    "certifications = ['None', 'AWS Certified', 'GCP Certified', 'PMP', 'Azure Certified', 'Leadership Certified']\n",
    "projects = ['Data Analysis with Python', 'Web Development with Java', 'ML Model with TensorFlow', 'Website with React', 'Team Management System', 'Deep Learning Project', 'Frontend Development', 'Backend Development', 'Project Leadership', 'Web App with React']\n",
    "courses = ['Data Science', 'Full Stack Development', 'Machine Learning', 'Frontend Development', 'Management', 'Deep Learning', 'Web Development', 'Backend Development', 'Leadership']\n",
    "jobs_applying_for = ['Python Developer', 'Java Developer', 'Full Stack Developer', 'Frontend Developer', 'Backend Developer']\n",
    "\n",
    "# Generate sample data\n",
    "sample_data = []\n",
    "for _ in range(10000):\n",
    "    sample_data.append({\n",
    "        'Education Level': random.choice(education_levels),\n",
    "        'Years of Experience': random.randint(0, 10),\n",
    "        'Previous Job Titles': random.choice(job_titles),\n",
    "        'Skills': random.choice(skills),\n",
    "        'Certifications': random.choice(certifications),\n",
    "        'Projects': random.choice(projects),\n",
    "        'Courses': random.choice(courses),\n",
    "        'Job Applying For': random.choice(jobs_applying_for)\n",
    "    })\n",
    "\n",
    "# Convert to DataFrame\n",
    "df_sample = pd.DataFrame(sample_data)\n",
    "\n",
    "# Define required skills for each role\n",
    "required_skills = {\n",
    "    'Python Developer': ['python', 'django', 'tensorflow'],\n",
    "    'Java Developer': ['java', 'spring', 'hibernate'],\n",
    "    'Full Stack Developer': ['javascript', 'react', 'html', 'css'],\n",
    "    'Frontend Developer': ['javascript', 'react', 'html', 'css'],\n",
    "    'Backend Developer': ['java', 'python', 'sql']\n",
    "}\n",
    "\n",
    "# Define a function to create labels\n",
    "def is_match(row):\n",
    "    job = row['Job Applying For']\n",
    "    skills = row['Skills'].lower().split(', ')\n",
    "    projects = row['Projects'].lower().split(', ')\n",
    "    courses = row['Courses'].lower().split(', ')\n",
    "    \n",
    "    keywords = required_skills.get(job, [])\n",
    "    matched_skills = sum(1 for skill in skills if skill in keywords)\n",
    "    \n",
    "    # Ensure at least two of the required skills are present\n",
    "    return int(matched_skills >= 2)\n",
    "\n",
    "df_sample['Match'] = df_sample.apply(is_match, axis=1)\n",
    "\n",
    "# Define features and labels\n",
    "X = df_sample.drop(columns=['Job Applying For', 'Match'])\n",
    "y = df_sample['Match']\n",
    "\n",
    "# Preprocess data\n",
    "numeric_features = ['Years of Experience']\n",
    "categorical_features = ['Education Level', 'Previous Job Titles', 'Skills', 'Certifications', 'Projects', 'Courses']\n",
    "\n",
    "preprocessor = ColumnTransformer(\n",
    "    transformers=[\n",
    "        ('num', StandardScaler(), numeric_features),\n",
    "        ('cat', OneHotEncoder(handle_unknown='ignore'), categorical_features)\n",
    "    ])\n",
    "\n",
    "X_preprocessed = preprocessor.fit_transform(X)\n",
    "\n",
    "# Split data\n",
    "X_train, X_test, y_train, y_test = train_test_split(X_preprocessed, y, test_size=0.2, random_state=42)\n",
    "\n",
    "# Define individual models\n",
    "rf = RandomForestClassifier(n_estimators=100, random_state=42)\n",
    "gb = GradientBoostingClassifier(n_estimators=100, random_state=42)\n",
    "svc = SVC(probability=True, random_state=42)\n",
    "\n",
    "# Combine models into a voting classifier\n",
    "ensemble_model = VotingClassifier(estimators=[('rf', rf), ('gb', gb), ('svc', svc)], voting='soft')\n",
    "\n",
    "# Train model\n",
    "ensemble_model.fit(X_train, y_train)\n",
    "\n",
    "# Evaluate model\n",
    "y_pred = ensemble_model.predict(X_test)\n",
    "print('Accuracy:', accuracy_score(y_test, y_pred))\n",
    "print('Classification Report:\\n', classification_report(y_test, y_pred))\n",
    "\n",
    "# Save the sample data to CSV\n",
    "df_sample.to_csv('sample_job_data_10000.csv', index=False)\n",
    "print('Sample data saved to sample_job_data.csv')\n"
   ]
  },
  {
   "cell_type": "code",
   "execution_count": 7,
   "id": "c99af6f0-a627-446b-9f7c-587b714393c6",
   "metadata": {},
   "outputs": [
    {
     "name": "stdout",
     "output_type": "stream",
     "text": [
      "Logistic Regression Accuracy: 0.8025\n",
      "Classification Report:\n",
      "               precision    recall  f1-score   support\n",
      "\n",
      "           0       0.80      1.00      0.89      1605\n",
      "           1       0.00      0.00      0.00       395\n",
      "\n",
      "    accuracy                           0.80      2000\n",
      "   macro avg       0.40      0.50      0.45      2000\n",
      "weighted avg       0.64      0.80      0.71      2000\n",
      "\n"
     ]
    },
    {
     "name": "stderr",
     "output_type": "stream",
     "text": [
      "C:\\Users\\mamle\\anaconda3\\Lib\\site-packages\\sklearn\\metrics\\_classification.py:1344: UndefinedMetricWarning: Precision and F-score are ill-defined and being set to 0.0 in labels with no predicted samples. Use `zero_division` parameter to control this behavior.\n",
      "  _warn_prf(average, modifier, msg_start, len(result))\n",
      "C:\\Users\\mamle\\anaconda3\\Lib\\site-packages\\sklearn\\metrics\\_classification.py:1344: UndefinedMetricWarning: Precision and F-score are ill-defined and being set to 0.0 in labels with no predicted samples. Use `zero_division` parameter to control this behavior.\n",
      "  _warn_prf(average, modifier, msg_start, len(result))\n",
      "C:\\Users\\mamle\\anaconda3\\Lib\\site-packages\\sklearn\\metrics\\_classification.py:1344: UndefinedMetricWarning: Precision and F-score are ill-defined and being set to 0.0 in labels with no predicted samples. Use `zero_division` parameter to control this behavior.\n",
      "  _warn_prf(average, modifier, msg_start, len(result))\n"
     ]
    }
   ],
   "source": [
    "from sklearn.linear_model import LogisticRegression\n",
    "\n",
    "# Logistic Regression\n",
    "log_reg = LogisticRegression(random_state=42, max_iter=1000)\n",
    "log_reg.fit(X_train, y_train)\n",
    "y_pred_log_reg = log_reg.predict(X_test)\n",
    "print('Logistic Regression Accuracy:', accuracy_score(y_test, y_pred_log_reg))\n",
    "print('Classification Report:\\n', classification_report(y_test, y_pred_log_reg))\n"
   ]
  },
  {
   "cell_type": "code",
   "execution_count": 8,
   "id": "cb1bda9e-cc5b-4679-8309-600767fa9c33",
   "metadata": {},
   "outputs": [
    {
     "name": "stdout",
     "output_type": "stream",
     "text": [
      "K-Nearest Neighbors Accuracy: 0.775\n",
      "Classification Report:\n",
      "               precision    recall  f1-score   support\n",
      "\n",
      "           0       0.81      0.94      0.87      1605\n",
      "           1       0.32      0.12      0.17       395\n",
      "\n",
      "    accuracy                           0.78      2000\n",
      "   macro avg       0.56      0.53      0.52      2000\n",
      "weighted avg       0.71      0.78      0.73      2000\n",
      "\n"
     ]
    }
   ],
   "source": [
    "from sklearn.neighbors import KNeighborsClassifier\n",
    "\n",
    "# K-Nearest Neighbors\n",
    "knn = KNeighborsClassifier(n_neighbors=5)\n",
    "knn.fit(X_train, y_train)\n",
    "y_pred_knn = knn.predict(X_test)\n",
    "print('K-Nearest Neighbors Accuracy:', accuracy_score(y_test, y_pred_knn))\n",
    "print('Classification Report:\\n', classification_report(y_test, y_pred_knn))\n"
   ]
  },
  {
   "cell_type": "code",
   "execution_count": 10,
   "id": "3c3f9b7f-6880-402c-8840-a8cb9a4063f0",
   "metadata": {},
   "outputs": [
    {
     "name": "stdout",
     "output_type": "stream",
     "text": [
      "Decision Tree Accuracy: 0.709\n",
      "Classification Report:\n",
      "               precision    recall  f1-score   support\n",
      "\n",
      "           0       0.83      0.80      0.82      1605\n",
      "           1       0.29      0.33      0.31       395\n",
      "\n",
      "    accuracy                           0.71      2000\n",
      "   macro avg       0.56      0.56      0.56      2000\n",
      "weighted avg       0.72      0.71      0.72      2000\n",
      "\n"
     ]
    }
   ],
   "source": [
    "from sklearn.tree import DecisionTreeClassifier\n",
    "\n",
    "# Decision Tree\n",
    "dt = DecisionTreeClassifier(random_state=42)\n",
    "dt.fit(X_train, y_train)\n",
    "y_pred_dt = dt.predict(X_test)\n",
    "print('Decision Tree Accuracy:', accuracy_score(y_test, y_pred_dt))\n",
    "print('Classification Report:\\n', classification_report(y_test, y_pred_dt))\n"
   ]
  },
  {
   "cell_type": "code",
   "execution_count": 13,
   "id": "c63c5925-5c7a-4b0a-b411-704a4f0cfa47",
   "metadata": {},
   "outputs": [
    {
     "name": "stderr",
     "output_type": "stream",
     "text": [
      "C:\\Users\\mamle\\anaconda3\\Lib\\site-packages\\xgboost\\core.py:158: UserWarning: [21:22:29] WARNING: C:\\buildkite-agent\\builds\\buildkite-windows-cpu-autoscaling-group-i-0015a694724fa8361-1\\xgboost\\xgboost-ci-windows\\src\\learner.cc:740: \n",
      "Parameters: { \"use_label_encoder\" } are not used.\n",
      "\n",
      "  warnings.warn(smsg, UserWarning)\n"
     ]
    },
    {
     "name": "stdout",
     "output_type": "stream",
     "text": [
      "XGBoost Accuracy: 0.7585\n",
      "Classification Report:\n",
      "               precision    recall  f1-score   support\n",
      "\n",
      "           0       0.82      0.90      0.86      1605\n",
      "           1       0.30      0.17      0.22       395\n",
      "\n",
      "    accuracy                           0.76      2000\n",
      "   macro avg       0.56      0.54      0.54      2000\n",
      "weighted avg       0.71      0.76      0.73      2000\n",
      "\n"
     ]
    }
   ],
   "source": [
    "import xgboost as xgb\n",
    "\n",
    "# XGBoost\n",
    "xgb_model = xgb.XGBClassifier(use_label_encoder=False, eval_metric='logloss', random_state=42)\n",
    "xgb_model.fit(X_train, y_train)\n",
    "y_pred_xgb = xgb_model.predict(X_test)\n",
    "print('XGBoost Accuracy:', accuracy_score(y_test, y_pred_xgb))\n",
    "print('Classification Report:\\n', classification_report(y_test, y_pred_xgb))\n"
   ]
  },
  {
   "cell_type": "code",
   "execution_count": 14,
   "id": "af731dd5-768b-42e5-b99f-f2169f98c957",
   "metadata": {},
   "outputs": [
    {
     "name": "stdout",
     "output_type": "stream",
     "text": [
      "AdaBoost Accuracy: 0.8025\n",
      "Classification Report:\n",
      "               precision    recall  f1-score   support\n",
      "\n",
      "           0       0.80      1.00      0.89      1605\n",
      "           1       0.50      0.00      0.01       395\n",
      "\n",
      "    accuracy                           0.80      2000\n",
      "   macro avg       0.65      0.50      0.45      2000\n",
      "weighted avg       0.74      0.80      0.72      2000\n",
      "\n"
     ]
    }
   ],
   "source": [
    "from sklearn.ensemble import AdaBoostClassifier\n",
    "\n",
    "# AdaBoost\n",
    "ada = AdaBoostClassifier(n_estimators=100, random_state=42)\n",
    "ada.fit(X_train, y_train)\n",
    "y_pred_ada = ada.predict(X_test)\n",
    "print('AdaBoost Accuracy:', accuracy_score(y_test, y_pred_ada))\n",
    "print('Classification Report:\\n', classification_report(y_test, y_pred_ada))\n"
   ]
  },
  {
   "cell_type": "code",
   "execution_count": 4,
   "id": "d3724bec-7e12-4241-a6e2-aa8ade11a3d3",
   "metadata": {},
   "outputs": [
    {
     "data": {
      "image/png": "[encoded data removed]",
      "text/plain": [
       "<Figure size 1800x500 with 6 Axes>"
      ]
     },
     "metadata": {},
     "output_type": "display_data"
    },
    {
     "name": "stdout",
     "output_type": "stream",
     "text": [
      "RandomForest:\n",
      "  TP: 1512\n",
      "  TN: 40\n",
      "  FP: 390\n",
      "  FN: 58\n",
      "  F1 Score: 0.15\n",
      "  Accuracy: 0.78\n",
      "\n",
      "GradientBoosting:\n",
      "  TP: 1560\n",
      "  TN: 2\n",
      "  FP: 428\n",
      "  FN: 10\n",
      "  F1 Score: 0.01\n",
      "  Accuracy: 0.78\n",
      "\n",
      "SVC:\n",
      "  TP: 1568\n",
      "  TN: 0\n",
      "  FP: 430\n",
      "  FN: 2\n",
      "  F1 Score: 0.00\n",
      "  Accuracy: 0.78\n",
      "\n"
     ]
    },
    {
     "data": {
      "image/png": "[encoded data removed]",
      "text/plain": [
       "<Figure size 1000x500 with 1 Axes>"
      ]
     },
     "metadata": {},
     "output_type": "display_data"
    },
    {
     "name": "stdout",
     "output_type": "stream",
     "text": [
      "Model comparison results saved to model_comparison_results.csv\n"
     ]
    }
   ],
   "source": [
    "import matplotlib.pyplot as plt\n",
    "import numpy as np\n",
    "from sklearn.metrics import confusion_matrix, f1_score\n",
    "\n",
    "# Function to plot confusion matrix\n",
    "def plot_confusion_matrix(cm, model_name, ax):\n",
    "    classes = ['Non-Match', 'Match']\n",
    "    im = ax.imshow(cm, interpolation='nearest', cmap=plt.cm.Blues)\n",
    "    ax.figure.colorbar(im, ax=ax)\n",
    "    tick_marks = np.arange(len(classes))\n",
    "    ax.set_xticks(tick_marks)\n",
    "    ax.set_yticks(tick_marks)\n",
    "    ax.set_xticklabels(classes, rotation=45)\n",
    "    ax.set_yticklabels(classes)\n",
    "    ax.set_title(f'Confusion Matrix - {model_name}')\n",
    "    ax.set_ylabel('True label')\n",
    "    ax.set_xlabel('Predicted label')\n",
    "\n",
    "    fmt = 'd'\n",
    "    thresh = cm.max() / 2.\n",
    "    for i, j in np.ndindex(cm.shape):\n",
    "        ax.text(j, i, format(cm[i, j], fmt),\n",
    "                ha=\"center\", va=\"center\",\n",
    "                color=\"white\" if cm[i, j] > thresh else \"black\")\n",
    "\n",
    "# Define individual models\n",
    "models = {\n",
    "    'RandomForest': RandomForestClassifier(n_estimators=100, random_state=42),\n",
    "    'GradientBoosting': GradientBoostingClassifier(n_estimators=100, random_state=42),\n",
    "    'SVC': SVC(probability=True, random_state=42)\n",
    "}\n",
    "\n",
    "# Train and evaluate each model\n",
    "results = {}\n",
    "fig, axs = plt.subplots(1, 3, figsize=(18, 5))\n",
    "\n",
    "for i, (name, model) in enumerate(models.items()):\n",
    "    model.fit(X_train, y_train)\n",
    "    y_pred = model.predict(X_test)\n",
    "    \n",
    "    cm = confusion_matrix(y_test, y_pred)\n",
    "    tp, fn, fp, tn = cm.ravel()\n",
    "    f1 = f1_score(y_test, y_pred)\n",
    "    \n",
    "    results[name] = {\n",
    "        'TP': tp,\n",
    "        'TN': tn,\n",
    "        'FP': fp,\n",
    "        'FN': fn,\n",
    "        'F1 Score': f1,\n",
    "        'Accuracy': accuracy_score(y_test, y_pred)\n",
    "    }\n",
    "    \n",
    "    plot_confusion_matrix(cm, name, axs[i])\n",
    "\n",
    "plt.tight_layout()\n",
    "plt.show()\n",
    "\n",
    "# Print results\n",
    "for name, metrics in results.items():\n",
    "    print(f\"{name}:\\n\"\n",
    "          f\"  TP: {metrics['TP']}\\n\"\n",
    "          f\"  TN: {metrics['TN']}\\n\"\n",
    "          f\"  FP: {metrics['FP']}\\n\"\n",
    "          f\"  FN: {metrics['FN']}\\n\"\n",
    "          f\"  F1 Score: {metrics['F1 Score']:.2f}\\n\"\n",
    "          f\"  Accuracy: {metrics['Accuracy']:.2f}\\n\")\n",
    "\n",
    "# Plot F1 Scores for comparison\n",
    "model_names = list(results.keys())\n",
    "f1_scores = [metrics['F1 Score'] for metrics in results.values()]\n",
    "\n",
    "plt.figure(figsize=(10, 5))\n",
    "plt.bar(model_names, f1_scores, color=['blue', 'green', 'red'])\n",
    "plt.xlabel('Models')\n",
    "plt.ylabel('F1 Score')\n",
    "plt.title('F1 Score Comparison of Models')\n",
    "plt.show()\n",
    "\n",
    "# Save results to CSV\n",
    "results_df = pd.DataFrame(results).T\n",
    "results_df.to_csv('model_comparison_results.csv', index=True)\n",
    "print('Model comparison results saved to model_comparison_results.csv')\n"
   ]
  },
  {
   "cell_type": "code",
   "execution_count": null,
   "id": "ceb42e24-c81d-4882-9dff-e5222009799e",
   "metadata": {},
   "outputs": [],
   "source": []
  },
  {
   "cell_type": "code",
   "execution_count": 4,
   "id": "63346b81-7bb6-4711-ae91-49fb335d6c62",
   "metadata": {},
   "outputs": [
    {
     "data": {
      "text/html": [
       "<pre style=\"white-space:pre;overflow-x:auto;line-height:normal;font-family:Menlo,'DejaVu Sans Mono',consolas,'Courier New',monospace\"><span style=\"font-weight: bold\">Model: \"sequential_2\"</span>\n",
       "</pre>\n"
      ],
      "text/plain": [
       "\u001b[1mModel: \"sequential_2\"\u001b[0m\n"
      ]
     },
     "metadata": {},
     "output_type": "display_data"
    },
    {
     "data": {
      "text/html": [
       "<pre style=\"white-space:pre;overflow-x:auto;line-height:normal;font-family:Menlo,'DejaVu Sans Mono',consolas,'Courier New',monospace\">┏━━━━━━━━━━━━━━━━━━━━━━━━━━━━━━━━━━━━━━┳━━━━━━━━━━━━━━━━━━━━━━━━━━━━━┳━━━━━━━━━━━━━━━━━┓\n",
       "┃<span style=\"font-weight: bold\"> Layer (type)                         </span>┃<span style=\"font-weight: bold\"> Output Shape                </span>┃<span style=\"font-weight: bold\">         Param # </span>┃\n",
       "┡━━━━━━━━━━━━━━━━━━━━━━━━━━━━━━━━━━━━━━╇━━━━━━━━━━━━━━━━━━━━━━━━━━━━━╇━━━━━━━━━━━━━━━━━┩\n",
       "│ simple_rnn_2 (<span style=\"color: #0087ff; text-decoration-color: #0087ff\">SimpleRNN</span>)             │ (<span style=\"color: #00d7ff; text-decoration-color: #00d7ff\">None</span>, <span style=\"color: #00af00; text-decoration-color: #00af00\">64</span>)                  │           <span style=\"color: #00af00; text-decoration-color: #00af00\">4,672</span> │\n",
       "├──────────────────────────────────────┼─────────────────────────────┼─────────────────┤\n",
       "│ dense_2 (<span style=\"color: #0087ff; text-decoration-color: #0087ff\">Dense</span>)                      │ (<span style=\"color: #00d7ff; text-decoration-color: #00d7ff\">None</span>, <span style=\"color: #00af00; text-decoration-color: #00af00\">1</span>)                   │              <span style=\"color: #00af00; text-decoration-color: #00af00\">65</span> │\n",
       "└──────────────────────────────────────┴─────────────────────────────┴─────────────────┘\n",
       "</pre>\n"
      ],
      "text/plain": [
       "┏━━━━━━━━━━━━━━━━━━━━━━━━━━━━━━━━━━━━━━┳━━━━━━━━━━━━━━━━━━━━━━━━━━━━━┳━━━━━━━━━━━━━━━━━┓\n",
       "┃\u001b[1m \u001b[0m\u001b[1mLayer (type)                        \u001b[0m\u001b[1m \u001b[0m┃\u001b[1m \u001b[0m\u001b[1mOutput Shape               \u001b[0m\u001b[1m \u001b[0m┃\u001b[1m \u001b[0m\u001b[1m        Param #\u001b[0m\u001b[1m \u001b[0m┃\n",
       "┡━━━━━━━━━━━━━━━━━━━━━━━━━━━━━━━━━━━━━━╇━━━━━━━━━━━━━━━━━━━━━━━━━━━━━╇━━━━━━━━━━━━━━━━━┩\n",
       "│ simple_rnn_2 (\u001b[38;5;33mSimpleRNN\u001b[0m)             │ (\u001b[38;5;45mNone\u001b[0m, \u001b[38;5;34m64\u001b[0m)                  │           \u001b[38;5;34m4,672\u001b[0m │\n",
       "├──────────────────────────────────────┼─────────────────────────────┼─────────────────┤\n",
       "│ dense_2 (\u001b[38;5;33mDense\u001b[0m)                      │ (\u001b[38;5;45mNone\u001b[0m, \u001b[38;5;34m1\u001b[0m)                   │              \u001b[38;5;34m65\u001b[0m │\n",
       "└──────────────────────────────────────┴─────────────────────────────┴─────────────────┘\n"
      ]
     },
     "metadata": {},
     "output_type": "display_data"
    },
    {
     "data": {
      "text/html": [
       "<pre style=\"white-space:pre;overflow-x:auto;line-height:normal;font-family:Menlo,'DejaVu Sans Mono',consolas,'Courier New',monospace\"><span style=\"font-weight: bold\"> Total params: </span><span style=\"color: #00af00; text-decoration-color: #00af00\">4,737</span> (18.50 KB)\n",
       "</pre>\n"
      ],
      "text/plain": [
       "\u001b[1m Total params: \u001b[0m\u001b[38;5;34m4,737\u001b[0m (18.50 KB)\n"
      ]
     },
     "metadata": {},
     "output_type": "display_data"
    },
    {
     "data": {
      "text/html": [
       "<pre style=\"white-space:pre;overflow-x:auto;line-height:normal;font-family:Menlo,'DejaVu Sans Mono',consolas,'Courier New',monospace\"><span style=\"font-weight: bold\"> Trainable params: </span><span style=\"color: #00af00; text-decoration-color: #00af00\">4,737</span> (18.50 KB)\n",
       "</pre>\n"
      ],
      "text/plain": [
       "\u001b[1m Trainable params: \u001b[0m\u001b[38;5;34m4,737\u001b[0m (18.50 KB)\n"
      ]
     },
     "metadata": {},
     "output_type": "display_data"
    },
    {
     "data": {
      "text/html": [
       "<pre style=\"white-space:pre;overflow-x:auto;line-height:normal;font-family:Menlo,'DejaVu Sans Mono',consolas,'Courier New',monospace\"><span style=\"font-weight: bold\"> Non-trainable params: </span><span style=\"color: #00af00; text-decoration-color: #00af00\">0</span> (0.00 B)\n",
       "</pre>\n"
      ],
      "text/plain": [
       "\u001b[1m Non-trainable params: \u001b[0m\u001b[38;5;34m0\u001b[0m (0.00 B)\n"
      ]
     },
     "metadata": {},
     "output_type": "display_data"
    },
    {
     "name": "stdout",
     "output_type": "stream",
     "text": [
      "Epoch 1/5\n",
      "\u001b[1m4/4\u001b[0m \u001b[32m━━━━━━━━━━━━━━━━━━━━\u001b[0m\u001b[37m\u001b[0m \u001b[1m3s\u001b[0m 5ms/step - loss: 1.2061 - mae: 0.9044\n",
      "Epoch 2/5\n",
      "\u001b[1m4/4\u001b[0m \u001b[32m━━━━━━━━━━━━━━━━━━━━\u001b[0m\u001b[37m\u001b[0m \u001b[1m0s\u001b[0m 5ms/step - loss: 0.9054 - mae: 0.7741 \n",
      "Epoch 3/5\n",
      "\u001b[1m4/4\u001b[0m \u001b[32m━━━━━━━━━━━━━━━━━━━━\u001b[0m\u001b[37m\u001b[0m \u001b[1m0s\u001b[0m 5ms/step - loss: 0.7951 - mae: 0.7272 \n",
      "Epoch 4/5\n",
      "\u001b[1m4/4\u001b[0m \u001b[32m━━━━━━━━━━━━━━━━━━━━\u001b[0m\u001b[37m\u001b[0m \u001b[1m0s\u001b[0m 4ms/step - loss: 0.7307 - mae: 0.6817 \n",
      "Epoch 5/5\n",
      "\u001b[1m4/4\u001b[0m \u001b[32m━━━━━━━━━━━━━━━━━━━━\u001b[0m\u001b[37m\u001b[0m \u001b[1m0s\u001b[0m 4ms/step - loss: 0.6651 - mae: 0.6390 \n"
     ]
    },
    {
     "data": {
      "text/plain": [
       "<keras.src.callbacks.history.History at 0x1a94bac5390>"
      ]
     },
     "execution_count": 4,
     "metadata": {},
     "output_type": "execute_result"
    }
   ],
   "source": [
    "import tensorflow as tf\n",
    "from tensorflow.keras.layers import SimpleRNN, Dense\n",
    "from tensorflow.keras.models import Sequential\n",
    "\n",
    "x_train = tf.random.normal((100,10,8))\n",
    "y_train = tf.random.uniform((100,), maxval=2, dtype=tf.int32)\n",
    "\n",
    "model = Sequential()\n",
    "model.add(SimpleRNN(64,input_shape=(10,8),activation='tanh'))\n",
    "model.add(Dense(2, activation='softmax'))\n",
    "\n",
    "model.compile(optimizer='adam', loss='sparse_categorical_crossentropy', metrics=['accuracy'])\n",
    "\n",
    "model.summary()\n",
    "\n",
    "model.fit(x_train,y_train,epochs=5)\n",
    "\n"
   ]
  },
  {
   "cell_type": "code",
   "execution_count": 5,
   "id": "e51f18a1-3373-460d-9443-309ce979b54e",
   "metadata": {},
   "outputs": [
    {
     "data": {
      "text/html": [
       "<pre style=\"white-space:pre;overflow-x:auto;line-height:normal;font-family:Menlo,'DejaVu Sans Mono',consolas,'Courier New',monospace\"><span style=\"font-weight: bold\">Model: \"sequential_3\"</span>\n",
       "</pre>\n"
      ],
      "text/plain": [
       "\u001b[1mModel: \"sequential_3\"\u001b[0m\n"
      ]
     },
     "metadata": {},
     "output_type": "display_data"
    },
    {
     "data": {
      "text/html": [
       "<pre style=\"white-space:pre;overflow-x:auto;line-height:normal;font-family:Menlo,'DejaVu Sans Mono',consolas,'Courier New',monospace\">┏━━━━━━━━━━━━━━━━━━━━━━━━━━━━━━━━━━━━━━┳━━━━━━━━━━━━━━━━━━━━━━━━━━━━━┳━━━━━━━━━━━━━━━━━┓\n",
       "┃<span style=\"font-weight: bold\"> Layer (type)                         </span>┃<span style=\"font-weight: bold\"> Output Shape                </span>┃<span style=\"font-weight: bold\">         Param # </span>┃\n",
       "┡━━━━━━━━━━━━━━━━━━━━━━━━━━━━━━━━━━━━━━╇━━━━━━━━━━━━━━━━━━━━━━━━━━━━━╇━━━━━━━━━━━━━━━━━┩\n",
       "│ simple_rnn_3 (<span style=\"color: #0087ff; text-decoration-color: #0087ff\">SimpleRNN</span>)             │ (<span style=\"color: #00d7ff; text-decoration-color: #00d7ff\">None</span>, <span style=\"color: #00af00; text-decoration-color: #00af00\">64</span>)                  │           <span style=\"color: #00af00; text-decoration-color: #00af00\">4,672</span> │\n",
       "├──────────────────────────────────────┼─────────────────────────────┼─────────────────┤\n",
       "│ dense_3 (<span style=\"color: #0087ff; text-decoration-color: #0087ff\">Dense</span>)                      │ (<span style=\"color: #00d7ff; text-decoration-color: #00d7ff\">None</span>, <span style=\"color: #00af00; text-decoration-color: #00af00\">1</span>)                   │              <span style=\"color: #00af00; text-decoration-color: #00af00\">65</span> │\n",
       "└──────────────────────────────────────┴─────────────────────────────┴─────────────────┘\n",
       "</pre>\n"
      ],
      "text/plain": [
       "┏━━━━━━━━━━━━━━━━━━━━━━━━━━━━━━━━━━━━━━┳━━━━━━━━━━━━━━━━━━━━━━━━━━━━━┳━━━━━━━━━━━━━━━━━┓\n",
       "┃\u001b[1m \u001b[0m\u001b[1mLayer (type)                        \u001b[0m\u001b[1m \u001b[0m┃\u001b[1m \u001b[0m\u001b[1mOutput Shape               \u001b[0m\u001b[1m \u001b[0m┃\u001b[1m \u001b[0m\u001b[1m        Param #\u001b[0m\u001b[1m \u001b[0m┃\n",
       "┡━━━━━━━━━━━━━━━━━━━━━━━━━━━━━━━━━━━━━━╇━━━━━━━━━━━━━━━━━━━━━━━━━━━━━╇━━━━━━━━━━━━━━━━━┩\n",
       "│ simple_rnn_3 (\u001b[38;5;33mSimpleRNN\u001b[0m)             │ (\u001b[38;5;45mNone\u001b[0m, \u001b[38;5;34m64\u001b[0m)                  │           \u001b[38;5;34m4,672\u001b[0m │\n",
       "├──────────────────────────────────────┼─────────────────────────────┼─────────────────┤\n",
       "│ dense_3 (\u001b[38;5;33mDense\u001b[0m)                      │ (\u001b[38;5;45mNone\u001b[0m, \u001b[38;5;34m1\u001b[0m)                   │              \u001b[38;5;34m65\u001b[0m │\n",
       "└──────────────────────────────────────┴─────────────────────────────┴─────────────────┘\n"
      ]
     },
     "metadata": {},
     "output_type": "display_data"
    },
    {
     "data": {
      "text/html": [
       "<pre style=\"white-space:pre;overflow-x:auto;line-height:normal;font-family:Menlo,'DejaVu Sans Mono',consolas,'Courier New',monospace\"><span style=\"font-weight: bold\"> Total params: </span><span style=\"color: #00af00; text-decoration-color: #00af00\">4,737</span> (18.50 KB)\n",
       "</pre>\n"
      ],
      "text/plain": [
       "\u001b[1m Total params: \u001b[0m\u001b[38;5;34m4,737\u001b[0m (18.50 KB)\n"
      ]
     },
     "metadata": {},
     "output_type": "display_data"
    },
    {
     "data": {
      "text/html": [
       "<pre style=\"white-space:pre;overflow-x:auto;line-height:normal;font-family:Menlo,'DejaVu Sans Mono',consolas,'Courier New',monospace\"><span style=\"font-weight: bold\"> Trainable params: </span><span style=\"color: #00af00; text-decoration-color: #00af00\">4,737</span> (18.50 KB)\n",
       "</pre>\n"
      ],
      "text/plain": [
       "\u001b[1m Trainable params: \u001b[0m\u001b[38;5;34m4,737\u001b[0m (18.50 KB)\n"
      ]
     },
     "metadata": {},
     "output_type": "display_data"
    },
    {
     "data": {
      "text/html": [
       "<pre style=\"white-space:pre;overflow-x:auto;line-height:normal;font-family:Menlo,'DejaVu Sans Mono',consolas,'Courier New',monospace\"><span style=\"font-weight: bold\"> Non-trainable params: </span><span style=\"color: #00af00; text-decoration-color: #00af00\">0</span> (0.00 B)\n",
       "</pre>\n"
      ],
      "text/plain": [
       "\u001b[1m Non-trainable params: \u001b[0m\u001b[38;5;34m0\u001b[0m (0.00 B)\n"
      ]
     },
     "metadata": {},
     "output_type": "display_data"
    },
    {
     "name": "stdout",
     "output_type": "stream",
     "text": [
      "Epoch 1/5\n",
      "\u001b[1m4/4\u001b[0m \u001b[32m━━━━━━━━━━━━━━━━━━━━\u001b[0m\u001b[37m\u001b[0m \u001b[1m3s\u001b[0m 6ms/step - loss: 1.6371 - mae: 1.0241\n",
      "Epoch 2/5\n",
      "\u001b[1m4/4\u001b[0m \u001b[32m━━━━━━━━━━━━━━━━━━━━\u001b[0m\u001b[37m\u001b[0m \u001b[1m0s\u001b[0m 4ms/step - loss: 1.1541 - mae: 0.8520 \n",
      "Epoch 3/5\n",
      "\u001b[1m4/4\u001b[0m \u001b[32m━━━━━━━━━━━━━━━━━━━━\u001b[0m\u001b[37m\u001b[0m \u001b[1m0s\u001b[0m 4ms/step - loss: 1.0087 - mae: 0.7861 \n",
      "Epoch 4/5\n",
      "\u001b[1m4/4\u001b[0m \u001b[32m━━━━━━━━━━━━━━━━━━━━\u001b[0m\u001b[37m\u001b[0m \u001b[1m0s\u001b[0m 5ms/step - loss: 0.9350 - mae: 0.7619 \n",
      "Epoch 5/5\n",
      "\u001b[1m4/4\u001b[0m \u001b[32m━━━━━━━━━━━━━━━━━━━━\u001b[0m\u001b[37m\u001b[0m \u001b[1m0s\u001b[0m 4ms/step - loss: 0.7550 - mae: 0.6795 \n"
     ]
    },
    {
     "data": {
      "text/plain": [
       "<keras.src.callbacks.history.History at 0x1a948365350>"
      ]
     },
     "execution_count": 5,
     "metadata": {},
     "output_type": "execute_result"
    }
   ],
   "source": [
    "import tensorflow as tf\n",
    "from tensorflow.keras.layers import SimpleRNN, Dense\n",
    "from tensorflow.keras.models import Sequential\n",
    "\n",
    "# Generating some random training data\n",
    "x_train = tf.random.normal((100, 10, 8))\n",
    "y_train = tf.random.normal((100, 1))\n",
    "\n",
    "# Building the model\n",
    "model = Sequential()\n",
    "model.add(SimpleRNN(64, input_shape=(10, 8), activation='tanh'))\n",
    "model.add(Dense(1))\n",
    "\n",
    "# Compiling the model with MSE loss and MAE metric\n",
    "model.compile(optimizer='adam', loss='mse', metrics=['mae'])\n",
    "\n",
    "# Summarizing the model\n",
    "model.summary()\n",
    "\n",
    "# Training the model\n",
    "model.fit(x_train, y_train, epochs=5)\n"
   ]
  },
  {
   "cell_type": "code",
   "execution_count": null,
   "id": "37d05ead-aaab-48ca-b555-8b15fe3ebf55",
   "metadata": {},
   "outputs": [],
   "source": []
  },
  {
   "cell_type": "code",
   "execution_count": null,
   "id": "47ff3230-2955-491e-a75b-1b5e6573e65a",
   "metadata": {},
   "outputs": [],
   "source": []
  }
 ],
 "metadata": {
  "kernelspec": {
   "display_name": "Python 3 (ipykernel)",
   "language": "python",
   "name": "python3"
  },
  "language_info": {
   "codemirror_mode": {
    "name": "ipython",
    "version": 3
   },
   "file_extension": ".py",
   "mimetype": "text/x-python",
   "name": "python",
   "nbconvert_exporter": "python",
   "pygments_lexer": "ipython3",
   "version": "3.11.7"
  }
 },
 "nbformat": 4,
 "nbformat_minor": 5
}
